{
 "cells": [
  {
   "cell_type": "markdown",
   "metadata": {},
   "source": [
    "- hyperparameters\n",
    "    - configuration parameters such as learning rate, batch size\n",
    "    - set before training process\n",
    "- hyperparameter tuning\n",
    "    - finding optimal value that optimize objective function such as accuracy"
   ]
  },
  {
   "cell_type": "markdown",
   "metadata": {},
   "source": [
    "- Katib provides\n",
    "    - Random search\n",
    "    - grid search\n",
    "    - bayesian optimization\n",
    "    - hyperband"
   ]
  },
  {
   "cell_type": "markdown",
   "metadata": {},
   "source": [
    "- Experiment\n",
    "    - end to end process\n",
    "    - objective: what to optimize, search space, search algorithm"
   ]
  },
  {
   "cell_type": "markdown",
   "metadata": {},
   "source": [
    "- Suggestion\n",
    "    - Optimization algorithm\n",
    "- Trial\n",
    "    - One iteration of optimization process with one set of parameters\n",
    "    - Parameters, observation metrics\n",
    "- Job\n",
    "    - Evaluate a trial"
   ]
  },
  {
   "cell_type": "markdown",
   "metadata": {},
   "source": [
    "## For katib we have kind: experiment in kubeflow CRD\n",
    "below is an example of katib workflow"
   ]
  },
  {
   "cell_type": "raw",
   "metadata": {},
   "source": [
    "apiVersion: \"kubeflow.org/v1alpha3\"\n",
    "kind: Experiment\n",
    "metadata:\n",
    "  namespace: <SET_NAMESPACE>\n",
    "  labels:\n",
    "    controller-tools.k8s.io: \"1.0\"\n",
    "  name: fashion-mnist-experiment-distributed-1\n",
    "spec:\n",
    "  parallelTrialCount: 3\n",
    "  maxTrialCount: 6\n",
    "  maxFailedTrialCount: 3\n",
    "  objective:\n",
    "    type: maximize\n",
    "    goal: 0.9\n",
    "    objectiveMetricName: val_accuracy\n",
    "    additionalMetricNames:\n",
    "      - loss\n",
    "      - accuracy\n",
    "  metricsCollectorSpec:\n",
    "    collector:\n",
    "      kind: StdOut\n",
    "  algorithm:\n",
    "    algorithmName: random\n",
    "  parameters:\n",
    "    - name: --tf-learning-rate\n",
    "      parameterType: double\n",
    "      feasibleSpace:\n",
    "        min: \"0.001\"\n",
    "        max: \"0.008\"\n",
    "    # samples\n",
    "    # - name: --num-layers\n",
    "    #   parameterType: int\n",
    "    #   feasibleSpace:\n",
    "    #     min: \"2\"\n",
    "    #     max: \"5\"\n",
    "    # - name: --optimizer\n",
    "    #   parameterType: categorical\n",
    "    #   feasibleSpace:\n",
    "    #     list:\n",
    "    #     - sgd\n",
    "    #     - adam\n",
    "    #     - ftrl\n",
    "  trialTemplate:\n",
    "    goTemplate:\n",
    "        rawTemplate: |-\n",
    "          apiVersion: kubeflow.org/v1\n",
    "          kind: TFJob\n",
    "          metadata:\n",
    "            generateName: tfjob\n",
    "            name: {{.Trial}}\n",
    "            namespace: {{.NameSpace}}\n",
    "          spec:\n",
    "            tfReplicaSpecs:\n",
    "              Chief:\n",
    "                replicas: 1\n",
    "                restartPolicy: OnFailure\n",
    "                template:\n",
    "                  spec:\n",
    "                    containers:\n",
    "                    - name: tensorflow\n",
    "                      image: <SET_IMAGE_NAME>\n",
    "                      imagePullPolicy: Always\n",
    "                      command:\n",
    "                      - python\n",
    "                      - /opt/model.py\n",
    "                      - --tf-mode=local\n",
    "                      {{- with .HyperParameters}}\n",
    "                      {{- range .}}\n",
    "                      - \"{{.Name}}={{.Value}}\"\n",
    "                      {{- end}}\n",
    "                      {{- end}}\n",
    "\n",
    "              Worker:\n",
    "                replicas: 2\n",
    "                restartPolicy: OnFailure\n",
    "                template:\n",
    "                  spec:\n",
    "                    containers:\n",
    "                    - name: tensorflow\n",
    "                      image: <SET_IMAGE_NAME>\n",
    "                      imagePullPolicy: Always\n",
    "                      command:\n",
    "                      - python\n",
    "                      - /opt/model.py\n",
    "                      - --tf-mode=local\n",
    "                      {{- with .HyperParameters}}\n",
    "                      {{- range .}}\n",
    "                      - \"{{.Name}}={{.Value}}\"\n",
    "                      {{- end}}\n",
    "                      {{- end}}\n"
   ]
  },
  {
   "cell_type": "markdown",
   "metadata": {},
   "source": [
    "in above we have apiVersion, name, namespace is set to our user name space, the spec will have different specs, total trial and max failed tria"
   ]
  },
  {
   "cell_type": "markdown",
   "metadata": {},
   "source": [
    "in objective, we try to define what we are trying to achieve, additionalMetricsName will track additional metrics, we also will define how we will collect the log"
   ]
  },
  {
   "cell_type": "markdown",
   "metadata": {},
   "source": [
    "in model.py, we have defined custom log and how we would collect the log which is standard format for katib"
   ]
  },
  {
   "cell_type": "markdown",
   "metadata": {},
   "source": [
    "#### parameters\n",
    "- we can have one or more hyperparameters we want to optimize, we can have one or more hyperparameters, e.g learning rate between minimum and maximum value"
   ]
  },
  {
   "cell_type": "markdown",
   "metadata": {},
   "source": [
    "in algorithm -> algorithmName we can pick the algorithm provided by Katib"
   ]
  },
  {
   "cell_type": "markdown",
   "metadata": {},
   "source": [
    "then we will have **trial template** how trial will be executed, it will define if we will have single node execution of chief-worker execution using TFJobs, we will also set the image name we want to run for the job."
   ]
  },
  {
   "cell_type": "markdown",
   "metadata": {},
   "source": [
    "then we go to katib->hyperparameter page and see the parameters"
   ]
  },
  {
   "cell_type": "markdown",
   "metadata": {},
   "source": []
  },
  {
   "cell_type": "markdown",
   "metadata": {},
   "source": []
  },
  {
   "cell_type": "markdown",
   "metadata": {},
   "source": []
  },
  {
   "cell_type": "markdown",
   "metadata": {},
   "source": []
  },
  {
   "cell_type": "markdown",
   "metadata": {},
   "source": []
  },
  {
   "cell_type": "markdown",
   "metadata": {},
   "source": []
  },
  {
   "cell_type": "markdown",
   "metadata": {},
   "source": []
  },
  {
   "cell_type": "markdown",
   "metadata": {},
   "source": []
  },
  {
   "cell_type": "markdown",
   "metadata": {},
   "source": []
  },
  {
   "cell_type": "markdown",
   "metadata": {},
   "source": []
  },
  {
   "cell_type": "markdown",
   "metadata": {},
   "source": []
  },
  {
   "cell_type": "markdown",
   "metadata": {},
   "source": []
  },
  {
   "cell_type": "markdown",
   "metadata": {},
   "source": []
  },
  {
   "cell_type": "markdown",
   "metadata": {},
   "source": []
  },
  {
   "cell_type": "markdown",
   "metadata": {},
   "source": []
  },
  {
   "cell_type": "markdown",
   "metadata": {},
   "source": []
  },
  {
   "cell_type": "markdown",
   "metadata": {},
   "source": []
  },
  {
   "cell_type": "markdown",
   "metadata": {},
   "source": []
  },
  {
   "cell_type": "markdown",
   "metadata": {},
   "source": []
  },
  {
   "cell_type": "markdown",
   "metadata": {},
   "source": []
  },
  {
   "cell_type": "markdown",
   "metadata": {},
   "source": []
  },
  {
   "cell_type": "markdown",
   "metadata": {},
   "source": []
  },
  {
   "cell_type": "markdown",
   "metadata": {},
   "source": []
  },
  {
   "cell_type": "markdown",
   "metadata": {},
   "source": []
  },
  {
   "cell_type": "markdown",
   "metadata": {},
   "source": []
  },
  {
   "cell_type": "markdown",
   "metadata": {},
   "source": []
  },
  {
   "cell_type": "markdown",
   "metadata": {},
   "source": []
  },
  {
   "cell_type": "markdown",
   "metadata": {},
   "source": []
  },
  {
   "cell_type": "markdown",
   "metadata": {},
   "source": []
  },
  {
   "cell_type": "markdown",
   "metadata": {},
   "source": []
  },
  {
   "cell_type": "markdown",
   "metadata": {},
   "source": []
  },
  {
   "cell_type": "markdown",
   "metadata": {},
   "source": []
  },
  {
   "cell_type": "markdown",
   "metadata": {},
   "source": []
  },
  {
   "cell_type": "markdown",
   "metadata": {},
   "source": []
  },
  {
   "cell_type": "markdown",
   "metadata": {},
   "source": []
  },
  {
   "cell_type": "markdown",
   "metadata": {},
   "source": []
  },
  {
   "cell_type": "markdown",
   "metadata": {},
   "source": []
  },
  {
   "cell_type": "markdown",
   "metadata": {},
   "source": []
  },
  {
   "cell_type": "markdown",
   "metadata": {},
   "source": []
  },
  {
   "cell_type": "markdown",
   "metadata": {},
   "source": []
  },
  {
   "cell_type": "markdown",
   "metadata": {},
   "source": []
  },
  {
   "cell_type": "markdown",
   "metadata": {},
   "source": []
  },
  {
   "cell_type": "markdown",
   "metadata": {},
   "source": []
  },
  {
   "cell_type": "markdown",
   "metadata": {},
   "source": []
  },
  {
   "cell_type": "markdown",
   "metadata": {},
   "source": []
  },
  {
   "cell_type": "markdown",
   "metadata": {},
   "source": []
  },
  {
   "cell_type": "markdown",
   "metadata": {},
   "source": []
  },
  {
   "cell_type": "markdown",
   "metadata": {},
   "source": []
  }
 ],
 "metadata": {
  "kernelspec": {
   "display_name": "Python 3",
   "language": "python",
   "name": "python3"
  },
  "language_info": {
   "codemirror_mode": {
    "name": "ipython",
    "version": 3
   },
   "file_extension": ".py",
   "mimetype": "text/x-python",
   "name": "python",
   "nbconvert_exporter": "python",
   "pygments_lexer": "ipython3",
   "version": "3.7.6"
  }
 },
 "nbformat": 4,
 "nbformat_minor": 4
}
