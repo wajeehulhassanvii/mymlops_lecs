{
 "cells": [
  {
   "cell_type": "markdown",
   "metadata": {},
   "source": [
    "- secrets provide kubernetes a way to distribute credentials, keys, passwords or secret data to the pod\n",
    "- kubernetes itself uses the Secrets mechanism to provide the credentials to access the internal API\n",
    "- you can also use the **same mechanism** to provide secrets to your application\n",
    "- Secrets is native to Kubernetes, we can use **external vault services** in our app as well."
   ]
  },
  {
   "cell_type": "markdown",
   "metadata": {},
   "source": [
    "### How to use SECRETS "
   ]
  },
  {
   "cell_type": "markdown",
   "metadata": {},
   "source": [
    "- Use **environment variables**\n",
    "- Use Secret **as a file** in a pod\n",
    "    - The setup uses **volumes** to be mounted in a container\n",
    "    - In the volume you have **files**\n",
    "    - Can be used for instance for **dotenv** files or your app can just read this file\n",
    "- Use an **external image** to pull secrets (from a **private image registry**)"
   ]
  },
  {
   "cell_type": "markdown",
   "metadata": {},
   "source": [
    "###  Generate Secrets Commands"
   ]
  },
  {
   "cell_type": "markdown",
   "metadata": {},
   "source": [
    "- echo -n \"root\"> ./username.txt\n",
    "- echo -n \"password\"> ./password.txt\n",
    "- kubectl create secret generic db-user-pass --from-file=./username.txt --from-file=./password.txt secret \"db-user-pass\" created"
   ]
  },
  {
   "cell_type": "markdown",
   "metadata": {},
   "source": [
    "#####  a secret can also be an SSH key or an SSL certificate"
   ]
  },
  {
   "cell_type": "markdown",
   "metadata": {},
   "source": [
    "**kubectl create secret generic ssl-certificate --from-file=ssh-privatekey=~/.ssh/id_rsa --ssl-cert-=ssl -cert=mysslcert.crt**"
   ]
  },
  {
   "cell_type": "markdown",
   "metadata": {},
   "source": [
    "### generate SECRET with yml file"
   ]
  },
  {
   "cell_type": "markdown",
   "metadata": {},
   "source": [
    "kind will be equal to \"Secret\"\n",
    "metadata-name: (db-secret)\n",
    "type: Opaque\n",
    "data-password: casdas==\n",
    "data-username: cGadqaws="
   ]
  },
  {
   "cell_type": "markdown",
   "metadata": {},
   "source": [
    "in linux we can convert string to base64 for username and password as follows:\n",
    "- **echo -n \"root\" | base64**\n",
    "- ecgo -n \"passwprd\" | base64"
   ]
  },
  {
   "cell_type": "markdown",
   "metadata": {},
   "source": [
    "### after the yml creation we can use kubectl"
   ]
  },
  {
   "cell_type": "markdown",
   "metadata": {},
   "source": [
    "**kubectl create -f secret-db-secret.yml**"
   ]
  },
  {
   "cell_type": "markdown",
   "metadata": {},
   "source": [
    "###  if we are using environment variable"
   ]
  },
  {
   "cell_type": "markdown",
   "metadata": {},
   "source": [
    "**then we can just define environment variables in the pod configuration as:**<br>\n",
    "env:<br>\n",
    "\\- name:SECRET_USERNAME\n",
    "<br>valueFrom:<br>\n",
    "secretKeyRef:<br>\n",
    "name:db-secret<br>\n",
    "key:username<br>\n",
    "\\- name:SECRET_PASSWORD<br>\n",
    "[....]"
   ]
  },
  {
   "cell_type": "markdown",
   "metadata": {},
   "source": [
    "### Alternatively, we can provide secrets in a file "
   ]
  },
  {
   "cell_type": "markdown",
   "metadata": {},
   "source": [
    "volumeMounts:<br>\n",
    "\\- name: credvolume<br>\n",
    "mountPath: /etc/creds<br>\n",
    "readOnly:true<br>\n",
    "volumes:<br>\n",
    "\\-name: credvolume<br>\n",
    "secret:<br>\n",
    "secretName:db-secrets"
   ]
  },
  {
   "cell_type": "markdown",
   "metadata": {},
   "source": [
    "##  DEMO"
   ]
  },
  {
   "cell_type": "markdown",
   "metadata": {},
   "source": [
    "kubectl create -f deployment/helloworld-secrets.yml<br>\n",
    "kubectl create -f deployment/helloworld-secrets-volumes.yml"
   ]
  },
  {
   "cell_type": "markdown",
   "metadata": {},
   "source": [
    "#####  to access pod shell, run the below command"
   ]
  },
  {
   "cell_type": "markdown",
   "metadata": {},
   "source": [
    "**kubectl exec helloworld-deployment-2123123123-123123 -i -t -- /bin/bash**"
   ]
  },
  {
   "cell_type": "markdown",
   "metadata": {},
   "source": [
    "cat /etc/creds/username|password"
   ]
  },
  {
   "cell_type": "markdown",
   "metadata": {},
   "source": []
  },
  {
   "cell_type": "markdown",
   "metadata": {},
   "source": []
  },
  {
   "cell_type": "markdown",
   "metadata": {},
   "source": []
  },
  {
   "cell_type": "markdown",
   "metadata": {},
   "source": []
  },
  {
   "cell_type": "markdown",
   "metadata": {},
   "source": []
  },
  {
   "cell_type": "markdown",
   "metadata": {},
   "source": []
  },
  {
   "cell_type": "markdown",
   "metadata": {},
   "source": []
  },
  {
   "cell_type": "markdown",
   "metadata": {},
   "source": []
  },
  {
   "cell_type": "markdown",
   "metadata": {},
   "source": []
  },
  {
   "cell_type": "markdown",
   "metadata": {},
   "source": []
  },
  {
   "cell_type": "markdown",
   "metadata": {},
   "source": []
  },
  {
   "cell_type": "markdown",
   "metadata": {},
   "source": []
  },
  {
   "cell_type": "markdown",
   "metadata": {},
   "source": []
  },
  {
   "cell_type": "markdown",
   "metadata": {},
   "source": []
  },
  {
   "cell_type": "markdown",
   "metadata": {},
   "source": []
  },
  {
   "cell_type": "markdown",
   "metadata": {},
   "source": []
  },
  {
   "cell_type": "markdown",
   "metadata": {},
   "source": []
  },
  {
   "cell_type": "markdown",
   "metadata": {},
   "source": []
  },
  {
   "cell_type": "markdown",
   "metadata": {},
   "source": []
  },
  {
   "cell_type": "markdown",
   "metadata": {},
   "source": []
  },
  {
   "cell_type": "markdown",
   "metadata": {},
   "source": []
  },
  {
   "cell_type": "markdown",
   "metadata": {},
   "source": []
  },
  {
   "cell_type": "markdown",
   "metadata": {},
   "source": []
  },
  {
   "cell_type": "markdown",
   "metadata": {},
   "source": []
  },
  {
   "cell_type": "markdown",
   "metadata": {},
   "source": []
  }
 ],
 "metadata": {
  "kernelspec": {
   "display_name": "Python 3",
   "language": "python",
   "name": "python3"
  },
  "language_info": {
   "codemirror_mode": {
    "name": "ipython",
    "version": 3
   },
   "file_extension": ".py",
   "mimetype": "text/x-python",
   "name": "python",
   "nbconvert_exporter": "python",
   "pygments_lexer": "ipython3",
   "version": "3.7.6"
  }
 },
 "nbformat": 4,
 "nbformat_minor": 4
}
