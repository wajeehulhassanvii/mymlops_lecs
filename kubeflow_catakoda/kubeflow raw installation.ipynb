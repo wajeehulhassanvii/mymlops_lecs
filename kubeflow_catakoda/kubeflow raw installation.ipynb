{
 "cells": [
  {
   "cell_type": "markdown",
   "metadata": {},
   "source": [
    "## WHAT IS KUBEFLOW\n",
    "Kubeflow The Kubeflow project is dedicated to making deployments of machine learning (ML) workflows on Kubernetes simple, portable and scalable. Its goal is not to recreate other services, but to provide a straightforward way to deploy best-of-breed open-source systems for ML to diverse infrastructures. Anywhere you are running Kubernetes, you should be able to run Kubeflow."
   ]
  },
  {
   "cell_type": "markdown",
   "metadata": {},
   "source": [
    "1. make sure kubernetes is already installed\n",
    "    - kubectl version --short\n",
    "    - kubectl get componentstatus\n",
    "    - kubernetes get nodes\n",
    "    - kubernetes cluster-info\n",
    "2. we can access kubernetes CLI"
   ]
  },
  {
   "cell_type": "markdown",
   "metadata": {},
   "source": [
    "To set up Kubeflow on this Kubernetes cluster three things need to be completed:\n",
    "\n",
    "    command-line tool installation\n",
    "    Persistence reservation\n",
    "    Kubeflow framework installation\n"
   ]
  },
  {
   "cell_type": "markdown",
   "metadata": {},
   "source": [
    "##### ##### COMMAND"
   ]
  },
  {
   "cell_type": "raw",
   "metadata": {},
   "source": [
    "curl -LO http://assets.joinscrapbook.com/kubeflow/kfctl_v0.7.1-2-g55f9b2a_linux.tar.gz\n",
    "tar -xvf kfctl_v0.7.1-2-g55f9b2a_linux.tar.gz\n",
    "mv kfctl /usr/local/bin/\n",
    "chmod +x /usr/local/bin/kfctl\n",
    "rm kfctl_v0.7.1-2-g55f9b2a_linux.tar.gz"
   ]
  },
  {
   "cell_type": "markdown",
   "metadata": {},
   "source": [
    "Verify the command-line tool is available.<br>\n",
    "**kfctl version**<br>put this in bash:<br>**source <(kfctl completion bash)**"
   ]
  },
  {
   "cell_type": "markdown",
   "metadata": {},
   "source": [
    "##### ##### NEXT Create 10 Persistent Volumes that will eventually be bound to by Kubeflow services."
   ]
  },
  {
   "cell_type": "raw",
   "metadata": {},
   "source": [
    "##### NEXT Create 10 Persistent Volumes that will eventually be bound to by Kubeflow services.\n",
    "cat pv.yaml | sed \"s/volname/pv$i/g\" | sed \"s/volsize/50Gi/g\" | sed \"s#volpath#/opt/vol/pv$i#\" | kubectl apply -f -\n",
    "   mkdir -p \"/opt/vol/pv$i\"\n",
    "   chmod 777 \"/opt/vol/pv$i\"\n",
    "   ssh -o UserKnownHostsFile=/dev/null -o StrictHostKeyChecking=no node01 \"mkdir -p /opt/vol/pv$i; chmod 777 /opt/vol/pv$i\"\n",
    "done"
   ]
  },
  {
   "cell_type": "markdown",
   "metadata": {},
   "source": [
    "#####  Installation"
   ]
  },
  {
   "cell_type": "raw",
   "metadata": {},
   "source": [
    "export BASE_DIR=/opt\n",
    "export KF_NAME=kf-install\n",
    "export KF_DIR=${BASE_DIR}/${KF_NAME}\n",
    "export CONFIG_URI=\"https://raw.githubusercontent.com/kubeflow/manifests/v0.7-branch/kfdef/kfctl_k8s_istio.0.7.1.yaml\"\n",
    "rm -rf ${KF_DIR}\n",
    "mkdir -p ${KF_DIR}\n",
    "cd ${KF_DIR}"
   ]
  },
  {
   "cell_type": "markdown",
   "metadata": {},
   "source": [
    "**Using the kfctl tool Install Kubeflow. Unfortunately, due to some idempotency problem, the installation must be attempted in a loop until it works. We expect this problem will be addressed in the near future.**"
   ]
  },
  {
   "cell_type": "raw",
   "metadata": {},
   "source": [
    "for i in {1..10}; do\n",
    "  kfctl apply -V -f ${CONFIG_URI}\n",
    "\n",
    "  EXITCODE=$?\n",
    "  if [ $EXITCODE -eq 0 ]; then\n",
    "    break;\n",
    "  fi\n",
    "\n",
    "  rm -rf *\n",
    "  sleep 2\n",
    "  clear\n",
    "done"
   ]
  },
  {
   "cell_type": "markdown",
   "metadata": {},
   "source": [
    "It will take a 5-10 minutes for all the services to be available. There are over 500 distinct resources that are created as part of the Kubeflow platform. Kubeflow is a project where many people are working to orchestrate all these resources into a sensible workflow for developing, deploying, serving and eventing your machine learning solutions.\n",
    "\n",
    "While it's starting you can investigate the various services in the Kubeflow stack."
   ]
  },
  {
   "cell_type": "markdown",
   "metadata": {},
   "source": [
    "### Your Kubeflow platform\n",
    "\n",
    "You soon have a Kubeflow platform and available for experimentation. It's services have been installed."
   ]
  },
  {
   "cell_type": "markdown",
   "metadata": {},
   "source": [
    "**kubectl get services --namespace kubeflow**"
   ]
  },
  {
   "cell_type": "markdown",
   "metadata": {},
   "source": [
    "the deployments are starting up"
   ]
  },
  {
   "cell_type": "markdown",
   "metadata": {},
   "source": [
    "**kubectl get deployment --namespace kubeflow**"
   ]
  },
  {
   "cell_type": "markdown",
   "metadata": {},
   "source": [
    "Each deployment becomes available once the AVAILABLE status changes from 0 to 1. It takes a few minutes for all the Pod associated with the Deployments and Services to download their containers and get them started."
   ]
  },
  {
   "cell_type": "markdown",
   "metadata": {},
   "source": [
    "**kubectl get pods --namespace kubeflow**"
   ]
  },
  {
   "cell_type": "markdown",
   "metadata": {},
   "source": [
    "**This whole Kubeflow framework will be available once these Pods all report Running.** On a production cluster or a higher performing development or test cluster, this Kubeflow stack would take less time to start and would normally be already running."
   ]
  },
  {
   "cell_type": "markdown",
   "metadata": {},
   "source": [
    "There are several new Custom Resource Definitions (CRDs) that have been installed on behalf of the Kubeflow Operator."
   ]
  },
  {
   "cell_type": "markdown",
   "metadata": {},
   "source": [
    "**kubectl get crds**"
   ]
  },
  {
   "cell_type": "markdown",
   "metadata": {},
   "source": [
    "### The standard command-line tool for Kubeflow, kfctl is also available.\n",
    "**kfctl version**"
   ]
  },
  {
   "cell_type": "markdown",
   "metadata": {},
   "source": [
    "Once the deployments are all available navigate to the Kubeflow dashboard and start exploring its features."
   ]
  },
  {
   "cell_type": "markdown",
   "metadata": {},
   "source": [
    "## Kubeflow dashboard"
   ]
  },
  {
   "cell_type": "markdown",
   "metadata": {},
   "source": [
    "Upon first arrival the Dashboard will ask to create a first working space called a Namespace. Use the suggested name anonymous This namespace you name will coincide with a Kubernetes Namespace.<br>**kubectl get namespaces**"
   ]
  },
  {
   "cell_type": "markdown",
   "metadata": {},
   "source": [
    "You will see also the namespace has been annotated and labeled so it will be recognized by Kubeflow and Istio."
   ]
  },
  {
   "cell_type": "markdown",
   "metadata": {},
   "source": [
    "**kubectl describe namespaces anonymous**"
   ]
  },
  {
   "cell_type": "markdown",
   "metadata": {},
   "source": []
  },
  {
   "cell_type": "markdown",
   "metadata": {},
   "source": []
  },
  {
   "cell_type": "markdown",
   "metadata": {},
   "source": []
  }
 ],
 "metadata": {
  "kernelspec": {
   "display_name": "Python 3",
   "language": "python",
   "name": "python3"
  },
  "language_info": {
   "codemirror_mode": {
    "name": "ipython",
    "version": 3
   },
   "file_extension": ".py",
   "mimetype": "text/x-python",
   "name": "python",
   "nbconvert_exporter": "python",
   "pygments_lexer": "ipython3",
   "version": "3.7.7"
  }
 },
 "nbformat": 4,
 "nbformat_minor": 4
}
