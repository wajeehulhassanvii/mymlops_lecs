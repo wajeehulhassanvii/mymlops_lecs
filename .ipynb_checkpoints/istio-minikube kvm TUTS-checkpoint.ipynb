{
 "cells": [
  {
   "cell_type": "markdown",
   "metadata": {},
   "source": [
    "### download both repo in a new directory\n",
    "**https://github.com/redhat-developer-demos/istio-tutorial**<br>\n",
    "**https://github.com/burrsutter/scripts-istio**"
   ]
  },
  {
   "cell_type": "markdown",
   "metadata": {},
   "source": [
    "minikube config set driver kvm2"
   ]
  },
  {
   "cell_type": "markdown",
   "metadata": {},
   "source": [
    "minikube stop"
   ]
  },
  {
   "cell_type": "markdown",
   "metadata": {},
   "source": [
    "minikube start -p istio-mk --memory=8192 --cpus=3  --kubernetes-version=1.18.5  --vm-driver=virtualbox  --disk-size=30g"
   ]
  },
  {
   "cell_type": "markdown",
   "metadata": {},
   "source": [
    "##### get cluster info, make sure that we have already made a cluster before"
   ]
  },
  {
   "cell_type": "markdown",
   "metadata": {},
   "source": [
    "kubectl cluster-info"
   ]
  },
  {
   "cell_type": "markdown",
   "metadata": {},
   "source": [
    "minikube node"
   ]
  },
  {
   "cell_type": "markdown",
   "metadata": {},
   "source": [
    "kubectl get pods --all-namespaces"
   ]
  },
  {
   "cell_type": "markdown",
   "metadata": {},
   "source": [
    "kubectl get node"
   ]
  },
  {
   "cell_type": "markdown",
   "metadata": {},
   "source": [
    "##### MAKE ENVIRONMENT VARIABLES\n",
    "PATH, KUBECONFIG, KUBE_EDITOR, ISTIO_HOME, PATH<br>\n",
    "send MINIKUBE_HOME and ISTIO_HOME to path"
   ]
  },
  {
   "cell_type": "markdown",
   "metadata": {},
   "source": [
    "#####  now we will install istio"
   ]
  },
  {
   "cell_type": "markdown",
   "metadata": {},
   "source": [
    "kubectl get namespaces<br>\n",
    "kubectl get pods -A"
   ]
  },
  {
   "cell_type": "raw",
   "metadata": {},
   "source": [
    "wget https://github.com/istio/istio/releases/download/1.6.0/istio-1.6.0-linux-amd64.tar.gz"
   ]
  },
  {
   "cell_type": "markdown",
   "metadata": {},
   "source": [
    "tar -zxvf (path)"
   ]
  },
  {
   "cell_type": "markdown",
   "metadata": {},
   "source": [
    "send the current istio extracted folder to PATH as follows:<br>"
   ]
  },
  {
   "cell_type": "raw",
   "metadata": {},
   "source": [
    "export ISTIO_HOME=$(pwd)/istio-1.6.0\n",
    "export PATH=$PATH:$ISTIO_HOME"
   ]
  },
  {
   "cell_type": "markdown",
   "metadata": {},
   "source": [
    "### this  "
   ]
  },
  {
   "cell_type": "markdown",
   "metadata": {},
   "source": [
    "**for the project we install istio-1.3.0**<br>\n",
    "then run this command<br>\n",
    "for i in install/kubernetes/helm/istio-init/files/crd*yaml; do kubectl apply -f $i; done"
   ]
  },
  {
   "cell_type": "markdown",
   "metadata": {},
   "source": [
    "thats basically it, istio has been installed in the pc, now we have to set it up for the cluster"
   ]
  },
  {
   "cell_type": "markdown",
   "metadata": {},
   "source": [
    "This command runs the operator by creating the following resources in the istio-operator namespace:\n",
    "\n",
    "    The operator custom resource definition\n",
    "    The operator controller deployment\n",
    "    A service to access operator metrics\n",
    "    Necessary Istio operator RBAC rules\n",
    "\n",
    "See the available istioctl operator init flags to control which namespaces the controller and Istio are installed into and the installed Istio image sources and versions."
   ]
  },
  {
   "cell_type": "raw",
   "metadata": {},
   "source": [
    "istioctl operator init\n"
   ]
  },
  {
   "cell_type": "markdown",
   "metadata": {},
   "source": [
    "istioctl install"
   ]
  },
  {
   "cell_type": "markdown",
   "metadata": {},
   "source": [
    "kubectl get namespaces"
   ]
  },
  {
   "cell_type": "markdown",
   "metadata": {},
   "source": [
    "kubectl get pods -n istio-system"
   ]
  },
  {
   "cell_type": "markdown",
   "metadata": {},
   "source": [
    "istioctl install --set addonComponents.grafana.enabled=true<br>\n",
    "istioctl install --set addonComponents.kiali.enabled=true"
   ]
  },
  {
   "cell_type": "markdown",
   "metadata": {},
   "source": [
    "##### to delete istio"
   ]
  },
  {
   "cell_type": "markdown",
   "metadata": {},
   "source": [
    "kubectl delete namespace istio-system"
   ]
  },
  {
   "cell_type": "markdown",
   "metadata": {},
   "source": [
    "### below command will install crds in istio-1.3.0\n",
    "for i in install/kubernetes/helm/istio-init/files/crd*yaml; do kubectl apply -f $i; done"
   ]
  },
  {
   "cell_type": "markdown",
   "metadata": {},
   "source": [
    "##### we can check crds by\n",
    "**kubectl get crds**"
   ]
  },
  {
   "cell_type": "markdown",
   "metadata": {},
   "source": [
    "##### get destination\n",
    "kubectl get crds | grep destination"
   ]
  },
  {
   "cell_type": "markdown",
   "metadata": {},
   "source": [
    "##### get virtualservice\n",
    "kubectl get crds | grep virtualservice"
   ]
  },
  {
   "cell_type": "markdown",
   "metadata": {},
   "source": [
    "##### now we completely install istio, by running the below command\n",
    "**kubectl apply -f install/kubernetes/istio-demo.yaml**"
   ]
  },
  {
   "cell_type": "markdown",
   "metadata": {},
   "source": [
    "above command will create a new namespace named istio-system<br>\n",
    "**kubectl get pods -n istio-system**"
   ]
  },
  {
   "cell_type": "markdown",
   "metadata": {},
   "source": [
    "## we can actually stick with istio-1.6.0\n",
    "then we can install by **istioctl install**<br>\n",
    "then we can change profile to **istioctl install --set profile=demo**<br>"
   ]
  },
  {
   "cell_type": "markdown",
   "metadata": {},
   "source": [
    "##### some components are service wihile others are pods, which we can check by bellow commands\n",
    "**kubectl get pods -n istio-system**<br>\n",
    "and we can **kubectl get svc -n istio-system**"
   ]
  },
  {
   "cell_type": "markdown",
   "metadata": {},
   "source": [
    "#####  we enable istio-injection, if disabled, find it by:\n",
    "kubectl get namespace -L istio-injection"
   ]
  },
  {
   "cell_type": "markdown",
   "metadata": {},
   "source": [
    "##### enable istio-injection as follows:\n",
    "**kubectl label namespace istio-system istio-injection=disabled --overwrite**"
   ]
  },
  {
   "cell_type": "markdown",
   "metadata": {},
   "source": [
    "Note that unlike manual injection, automatic injection occurs at the pod-level. You won’t see any change to the deployment itself. Instead you’ll want to check individual pods (via kubectl describe) to see the injected proxy."
   ]
  },
  {
   "cell_type": "markdown",
   "metadata": {},
   "source": [
    "#### to get the sidecar, we run our deployment\n",
    "**istioctl kube-inject -f customer/kubernetes/Deployment.yml**"
   ]
  },
  {
   "cell_type": "markdown",
   "metadata": {},
   "source": [
    "##### CREATE NEW NAMESPACE\n",
    "**kubectl create namespace tutorial**<br>\n",
    "**kubectl config set-context \\$(kubectl config current-context) --namespace=tutorial**"
   ]
  },
  {
   "cell_type": "markdown",
   "metadata": {},
   "source": [
    "### we can check labels as follows:\n",
    "**kubectl get namespaces --show-labels**"
   ]
  },
  {
   "cell_type": "markdown",
   "metadata": {},
   "source": [
    "### create deployment finally\n",
    "**kubectl apply -f customer/kubernetes/Deployment.yml**"
   ]
  },
  {
   "cell_type": "markdown",
   "metadata": {},
   "source": [
    "##### check pods\n",
    "**kubectl get pods**<br>\n",
    "it must show 2/2, last one is sidecar"
   ]
  },
  {
   "cell_type": "markdown",
   "metadata": {},
   "source": [
    "##### now start service and gateway as well\n",
    "**kubectl apply -f customer/kubernetes/Service.yml**<br>\n",
    "**kubectl apply -f customer/kubernetes/Gateway.yml**"
   ]
  },
  {
   "cell_type": "markdown",
   "metadata": {},
   "source": [
    "### also apply preference after deployment,service,gateway\n",
    "\n",
    "**kubectl apply -f preference/kubernetes/Deployment.yml**\n",
    "**kubectl apply -f preference/kubernetes/Service.yml**"
   ]
  },
  {
   "cell_type": "markdown",
   "metadata": {},
   "source": [
    "### also apply recommendations after preference\n",
    "\n",
    "**kubectl apply -f recommendation/kubernetes/Deployment.yml**\n",
    "**kubectl apply -f recommendation/kubernetes/Service.yml**"
   ]
  },
  {
   "cell_type": "markdown",
   "metadata": {},
   "source": [
    "### check services\n",
    "**kubectl get services**"
   ]
  },
  {
   "cell_type": "markdown",
   "metadata": {},
   "source": [
    "### check gateways/vs\n",
    "**kubectl get vs**"
   ]
  },
  {
   "cell_type": "markdown",
   "metadata": {},
   "source": [
    "customer calls preference, preference calls recommendations, and the user calls customers"
   ]
  },
  {
   "cell_type": "markdown",
   "metadata": {},
   "source": [
    "#####  get pod information\n",
    "kubectl describe pod customer-76bddbf59c-46cmt"
   ]
  },
  {
   "cell_type": "markdown",
   "metadata": {},
   "source": [
    "##### for minikube we will have to find nodeport, we can do that as follows:\n",
    "**kubectl get services -n istio-system**<br>\n",
    "our interest: istio-ingressgateway        LoadBalancer   10.99.72.161     <pending>     15020:32180/TCP,80:32376/TCP"
   ]
  },
  {
   "cell_type": "markdown",
   "metadata": {},
   "source": [
    "##### get minikube ip\n",
    "**minikube --profile istio-mk ip**"
   ]
  },
  {
   "cell_type": "markdown",
   "metadata": {},
   "source": [
    "#####  now talk to customer\n",
    "curl 192.168.39.201:32376/customer"
   ]
  },
  {
   "cell_type": "markdown",
   "metadata": {},
   "source": [
    "#### check cluster status\n",
    "minikube --profile istio-mk status"
   ]
  },
  {
   "cell_type": "markdown",
   "metadata": {},
   "source": [
    "##### check cluster ip\n",
    "minikube --profile istio-mk ip"
   ]
  },
  {
   "cell_type": "markdown",
   "metadata": {},
   "source": [
    "#####  now deploy another deployment, \n",
    "kubectl apply -f recommendation/kubernetes/Deployment-v2.yml"
   ]
  },
  {
   "cell_type": "markdown",
   "metadata": {},
   "source": [
    "##### now do continuous curl as below"
   ]
  },
  {
   "cell_type": "raw",
   "metadata": {},
   "source": [
    "while true\n",
    "do curl 192.168.39.201:32376/customer\n",
    "sleep .3\n",
    "done"
   ]
  },
  {
   "cell_type": "markdown",
   "metadata": {},
   "source": [
    "##### get labels\n",
    "kubectl get pods --show-labels"
   ]
  },
  {
   "cell_type": "markdown",
   "metadata": {},
   "source": [
    "#####  scale the pods, while they are running, we will be scaling already running pod\n",
    "kubectl scale --replicas=2 deployment/recommendation-v2 -n tutorial"
   ]
  },
  {
   "cell_type": "markdown",
   "metadata": {},
   "source": [
    "now we saw getting more traffic from the v2 pod"
   ]
  },
  {
   "cell_type": "markdown",
   "metadata": {},
   "source": [
    "## we will now change route rules with istio, istio coming into play"
   ]
  },
  {
   "cell_type": "markdown",
   "metadata": {},
   "source": [
    "kubectl create -f istiofiles/destination-rule-recommendation-v1-v2.yml -n tutorial<br>\n",
    "kubectl create -f istiofiles/virtual-service-recommendation-v2.yml -n tutorial"
   ]
  },
  {
   "cell_type": "markdown",
   "metadata": {},
   "source": [
    "now we saw that all the traffic goes through version 2, since we gave v-2 100% weight"
   ]
  },
  {
   "cell_type": "markdown",
   "metadata": {},
   "source": [
    "kubectl get virtualservices"
   ]
  },
  {
   "cell_type": "markdown",
   "metadata": {},
   "source": [
    "kubectl get destinationrules"
   ]
  },
  {
   "cell_type": "markdown",
   "metadata": {},
   "source": [
    "kubectl describe vs recommendation"
   ]
  },
  {
   "cell_type": "markdown",
   "metadata": {},
   "source": [
    "#### we can edit recommendation, which is already deployed, and send all traffic to v1\n",
    "kubectl edit vs/recommendation"
   ]
  },
  {
   "cell_type": "markdown",
   "metadata": {},
   "source": [
    "### delete deployed recommendation\n",
    "kubectl delete vs recommendation"
   ]
  },
  {
   "cell_type": "markdown",
   "metadata": {},
   "source": [
    "#####  CANARY DEPLOYMENT, canary gives early warning"
   ]
  },
  {
   "cell_type": "markdown",
   "metadata": {},
   "source": []
  },
  {
   "cell_type": "markdown",
   "metadata": {},
   "source": []
  },
  {
   "cell_type": "markdown",
   "metadata": {},
   "source": []
  },
  {
   "cell_type": "markdown",
   "metadata": {},
   "source": []
  },
  {
   "cell_type": "markdown",
   "metadata": {},
   "source": []
  },
  {
   "cell_type": "markdown",
   "metadata": {},
   "source": []
  },
  {
   "cell_type": "markdown",
   "metadata": {},
   "source": []
  }
 ],
 "metadata": {
  "kernelspec": {
   "display_name": "Python 3",
   "language": "python",
   "name": "python3"
  },
  "language_info": {
   "codemirror_mode": {
    "name": "ipython",
    "version": 3
   },
   "file_extension": ".py",
   "mimetype": "text/x-python",
   "name": "python",
   "nbconvert_exporter": "python",
   "pygments_lexer": "ipython3",
   "version": "3.7.7"
  }
 },
 "nbformat": 4,
 "nbformat_minor": 4
}
