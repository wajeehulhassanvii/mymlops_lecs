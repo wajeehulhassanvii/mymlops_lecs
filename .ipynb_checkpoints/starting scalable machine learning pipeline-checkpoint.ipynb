{
 "cells": [
  {
   "cell_type": "markdown",
   "metadata": {},
   "source": [
    "## must have kubernetes, kubectl and minikube pre-installed"
   ]
  },
  {
   "cell_type": "markdown",
   "metadata": {},
   "source": [
    "this tut is for single node desktop and must have good system conf"
   ]
  },
  {
   "cell_type": "raw",
   "metadata": {},
   "source": [
    "minikube start --vm-driver=none --cpus 6 --memory 12288 --disk-size=120g --extra-config=apiserver.authorization-mode=RBAC --extra-config=kubelet.resolv-conf=/run/systemd/resolve/resolv.conf --extra-config kubeadm.ignore-preflight-errors=SystemVerification"
   ]
  },
  {
   "cell_type": "markdown",
   "metadata": {},
   "source": [
    "### steps to install kubectl"
   ]
  },
  {
   "cell_type": "raw",
   "metadata": {},
   "source": [
    "# The following command is optional, to make kfctl binary easier to use.\n",
    "export PATH=$PATH:<path to where kfctl was unpacked>\n",
    "\n",
    "# Set KF_NAME to the name of your Kubeflow deployment. This also becomes the\n",
    "# name of the directory containing your configuration.\n",
    "# For example, your deployment name can be 'my-kubeflow' or 'kf-test'.\n",
    "export KF_NAME=<your choice of name for the Kubeflow deployment>\n",
    "\n",
    "# Set the path to the base directory where you want to store one or more \n",
    "# Kubeflow deployments. For example, /opt/.\n",
    "# Then set the Kubeflow application directory for this deployment.\n",
    "export BASE_DIR=<path to a base directory>\n",
    "export KF_DIR=${BASE_DIR}/${KF_NAME}\n",
    "\n",
    "# Set the configuration file to use, such as the file specified below:\n",
    "export CONFIG_URI=\"https://raw.githubusercontent.com/kubeflow/manifests/v1.0-branch/kfdef/kfctl_k8s_istio.v1.0.2.yaml\"\n",
    "\n",
    "# Generate and deploy Kubeflow:\n",
    "mkdir -p ${KF_DIR}\n",
    "cd ${KF_DIR}\n",
    "kfctl apply -V -f ${CONFIG_URI}"
   ]
  },
  {
   "cell_type": "raw",
   "metadata": {},
   "source": [
    "export BASE_DIR=/home/wajeeh-machine/projects/examples_production_codes/kubernetes_etc/kubeflow_learn\n",
    "export KF_NAME=kubeflow_local_cluster"
   ]
  },
  {
   "cell_type": "markdown",
   "metadata": {},
   "source": [
    "#### install argo CD and kfp"
   ]
  },
  {
   "cell_type": "raw",
   "metadata": {},
   "source": [
    "pip install kfp"
   ]
  },
  {
   "cell_type": "raw",
   "metadata": {},
   "source": [
    "VERSION=$(curl --silent \"https://api.github.com/repos/argoproj/argo-cd/releases/latest\" | grep '\"tag_name\"' | sed -E 's/.*\"([^\"]+)\".*/\\1/')\n",
    "\n",
    "curl -sSL -o /usr/local/bin/argocd https://github.com/argoproj/argo-cd/releases/download/$VERSION/argocd-linux-amd64\n",
    "\n",
    "chmod +x /usr/local/bin/argocd"
   ]
  },
  {
   "cell_type": "markdown",
   "metadata": {},
   "source": [
    "#### gcp guide\n",
    "- install gcloud\n",
    "- eable APIs\n",
    "    - Compute Engine API\n",
    "    - Kubernetes API\n",
    "    - Identity and access management (IAM) API\n",
    "    - Deployment API\n",
    "- authentication\n",
    "    - OAuth (Cloud Identity Aware Proxy) IAP"
   ]
  },
  {
   "cell_type": "markdown",
   "metadata": {},
   "source": [
    "#### get kubectl version\n",
    "kubectl version --client"
   ]
  },
  {
   "cell_type": "markdown",
   "metadata": {},
   "source": [
    "to initialize gcloud **gcloud init**<br>\n",
    "then **configure** gcloud"
   ]
  },
  {
   "cell_type": "markdown",
   "metadata": {},
   "source": [
    "next run the command **gcloud auth application-default login**"
   ]
  },
  {
   "cell_type": "markdown",
   "metadata": {},
   "source": [
    "above GCP guide is one time activity"
   ]
  },
  {
   "cell_type": "markdown",
   "metadata": {},
   "source": [
    "in GCP console, go to OAuth COnsent Screen, create new OAuth for external OAuth user"
   ]
  },
  {
   "cell_type": "markdown",
   "metadata": {},
   "source": [
    "then create OAuth Client ID in credential tabs and select Web App"
   ]
  },
  {
   "cell_type": "markdown",
   "metadata": {},
   "source": [
    "create OAuth URI"
   ]
  },
  {
   "cell_type": "markdown",
   "metadata": {},
   "source": [
    "### GCP "
   ]
  },
  {
   "cell_type": "markdown",
   "metadata": {},
   "source": [
    "create new project, go to API and SERVICES and enable all the APIs"
   ]
  },
  {
   "cell_type": "markdown",
   "metadata": {},
   "source": [
    "- now **gcloud init** , initialize gcloud, select edit the default then it will take you to a website and from there do authentication and copy the code, then paste it in the shell to connect terminal to the GCP project"
   ]
  },
  {
   "cell_type": "markdown",
   "metadata": {},
   "source": [
    "**gcloud auth application-default login**"
   ]
  },
  {
   "cell_type": "markdown",
   "metadata": {},
   "source": [
    "#### now we will set cloud IAP that uses OAuth under the hood"
   ]
  },
  {
   "cell_type": "markdown",
   "metadata": {},
   "source": [
    "go to API and Services, go to OAuth consent screen, select external"
   ]
  },
  {
   "cell_type": "markdown",
   "metadata": {},
   "source": [
    "application home page field can have (project id= kubeflow-end-to-end-1) PLUS dot cloud dot goog, NOTE we can add our own domain as well"
   ]
  },
  {
   "cell_type": "markdown",
   "metadata": {},
   "source": [
    "then go to credentials tab and create credential, OAuth-> web application"
   ]
  },
  {
   "cell_type": "markdown",
   "metadata": {},
   "source": [
    "now copy client id and client secret"
   ]
  },
  {
   "cell_type": "markdown",
   "metadata": {},
   "source": [
    "change authorize redirect uir after creating it"
   ]
  },
  {
   "cell_type": "markdown",
   "metadata": {},
   "source": [
    "follow certain template, and replace client id with the one created<br>\n",
    "**https:\\/\\/iap.googleapis.com\\/v1\\/oauth\\/clientids\\/<client_id\\>:handleredirect **<br>\n",
    "now OAuth credentials are all set"
   ]
  },
  {
   "cell_type": "markdown",
   "metadata": {},
   "source": [
    "### now we configure gcloud for the project"
   ]
  },
  {
   "cell_type": "markdown",
   "metadata": {},
   "source": [
    "in local terminal, do , export PROJECT=(project id)kubeflow-end-to-end-1, <br> EXPORT zone=(zone)australia-southeast1<br>\n",
    "**NOTE:** add region as -a,-b or -c"
   ]
  },
  {
   "cell_type": "markdown",
   "metadata": {},
   "source": [
    "download and install kfctl just like kubectl"
   ]
  },
  {
   "cell_type": "markdown",
   "metadata": {},
   "source": [
    "then set new environment variables<br>\n",
    "Must make sure all the APIs are enabled, only then apply the config<br>\n",
    "KF_NAME=pskfp-1,<br>\n",
    "also set CLIENT_ID and CLIENT_SECRET from CREDENTIALS"
   ]
  },
  {
   "cell_type": "markdown",
   "metadata": {},
   "source": [
    "### delete kfctl cluster already deployed on GCP"
   ]
  },
  {
   "cell_type": "markdown",
   "metadata": {},
   "source": [
    "first delete storage and cluster in GCP deployments then<br>\n",
    "run **kfctl delete -V -f ./kfctl_iapxxxxxx.yaml --delete_storage**"
   ]
  },
  {
   "cell_type": "markdown",
   "metadata": {},
   "source": [
    "## BUILDING AND RUNNING CLUSTER"
   ]
  },
  {
   "cell_type": "markdown",
   "metadata": {},
   "source": [
    "**Note** Don't apply kfctl first, instead build it first then apply it, because we need to make some changes in build configuration and reduce the CPU size."
   ]
  },
  {
   "cell_type": "markdown",
   "metadata": {},
   "source": [
    "go to gcp_config, open cluster-kubeflow.yaml"
   ]
  },
  {
   "cell_type": "markdown",
   "metadata": {},
   "source": [
    "**NOTE:** we can change quota for compute engine API-CPU from 8 to 16 for running the cluster successfulyly"
   ]
  },
  {
   "cell_type": "markdown",
   "metadata": {},
   "source": [
    "create CONFIG_FILE variable as:<br>\n",
    "CONFIG_FILE=${KF_DIR}/kfctl_gcpxxxxxx.yaml"
   ]
  },
  {
   "cell_type": "markdown",
   "metadata": {},
   "source": [
    "Build kfctl again after making changes to CPU size in cluster-kubeflow.yaml, then do kfctl apply -V -f ./kfctl_gcp_xxxxx.taml"
   ]
  },
  {
   "cell_type": "markdown",
   "metadata": {},
   "source": [
    "### SERVICES, INGRESS, APPLICATIONS\n",
    "In Kubernetes Engine tab, we can check all the newly created Services, Ingress nd applications"
   ]
  },
  {
   "cell_type": "markdown",
   "metadata": {},
   "source": [
    "The entry point to our cluster is Service->Ingress"
   ]
  },
  {
   "cell_type": "markdown",
   "metadata": {},
   "source": [
    "Kubernetes is for Machine learning engineer. Kubeflow has been designed for people with different level of expertise.\n",
    "- Low bar (not expert in kubernetes), allow data scientists to be more productive without deep expertise in containers and kubernetes.\n",
    "- High ceiling (allows experts to customize based on complex requiremt)"
   ]
  },
  {
   "cell_type": "markdown",
   "metadata": {},
   "source": [
    "**Docker and Kubernetes knowledge is necessary**"
   ]
  },
  {
   "cell_type": "markdown",
   "metadata": {},
   "source": [
    "we build Docker container and deploy them on kubernetes<br>\n",
    "we can build any application for deployment, even REST APIs"
   ]
  },
  {
   "cell_type": "markdown",
   "metadata": {},
   "source": [
    "we scale the deployed containers with Kubernetes, the reason why we will deploy the docker container with kubernetes.<br>\n",
    "Kubernetes can handle many scenarios for scaling the app"
   ]
  },
  {
   "cell_type": "markdown",
   "metadata": {},
   "source": [
    "Pod is atomic, Deployment can have multiple Pods, and can contain other containers for handling other requirements"
   ]
  },
  {
   "cell_type": "markdown",
   "metadata": {},
   "source": [
    "to expose Pod, we can deploy service with fixed IP or ADDRESS<br>\n",
    "**kind: service**"
   ]
  },
  {
   "cell_type": "raw",
   "metadata": {},
   "source": [
    "ports:\n",
    " - port :80\n",
    "   targetPort: 80"
   ]
  },
  {
   "cell_type": "markdown",
   "metadata": {},
   "source": [
    "in the above caseport is the internal port while the targetPort is the port we will use externally to listen to the Pod"
   ]
  },
  {
   "cell_type": "markdown",
   "metadata": {},
   "source": [
    "Ingree is useful in machine learning case specially for routing.<br>\n",
    "EG: One service being sued for NLP text classification, Service B for computer vision. Service A and B can be several version of the same machine learning model. In INGRESS we define the rule that if any requiest coming to A will get routed to service A, while any request coming to B should get routed to service B.<br>\n",
    "**Ingress allows us to have all the rules in one place and also provice load balancing and security.**"
   ]
  },
  {
   "cell_type": "markdown",
   "metadata": {},
   "source": [
    "**Namespaces** we can logically group the _____ in adifferent namespaces. Namespace is logical separation of resources. It allows better management if we are working on multiple resources. It can also segregate environments such as QA, DEV, PROD"
   ]
  },
  {
   "cell_type": "markdown",
   "metadata": {},
   "source": [
    "## CONNECT CLUSTER TO LOCAL TERMINAL\n",
    "go to kubernetes cluster in GKE and copy the command for local terminal from CONNECT\n",
    "<br>gcloud container clusters get-credentials etekf --zone us-central1-a --project kubeflow-end-to-end-1"
   ]
  },
  {
   "cell_type": "markdown",
   "metadata": {},
   "source": [
    "We can apply new pod configuration to our cluster or we can first create then apply new pod to existing cluster by using kubectl create/apply"
   ]
  },
  {
   "cell_type": "markdown",
   "metadata": {},
   "source": [
    "Nginx runs on port 80"
   ]
  },
  {
   "cell_type": "markdown",
   "metadata": {},
   "source": [
    "kubectl apply -f pod.yml/service.yml/deployment.yml"
   ]
  },
  {
   "cell_type": "markdown",
   "metadata": {},
   "source": [
    "kubectl port-forward (pod-name for nginx) 8080:80 "
   ]
  },
  {
   "cell_type": "markdown",
   "metadata": {},
   "source": [
    "kubectl delete -f pod.yml/service.yml/deployment.yml"
   ]
  },
  {
   "cell_type": "markdown",
   "metadata": {},
   "source": [
    "we check running services on kubeflow namespace by kubectl get pod/service/deployment -n kubeflow"
   ]
  },
  {
   "cell_type": "markdown",
   "metadata": {},
   "source": [
    "Envou-Ingress in GKE will take us to Kubeflow central dashboard"
   ]
  },
  {
   "cell_type": "markdown",
   "metadata": {},
   "source": [
    "we have shortkut tabs on the left of Kubeflow panel<br>\n",
    "pipelines, netbook servers, katib, artifact store"
   ]
  },
  {
   "cell_type": "markdown",
   "metadata": {},
   "source": [
    "We can create **notebook server** there."
   ]
  },
  {
   "cell_type": "markdown",
   "metadata": {},
   "source": [
    "**Katib** is for hyperparameter tuning"
   ]
  },
  {
   "cell_type": "markdown",
   "metadata": {},
   "source": [
    "**Artefact Store** displays different model artefacts and their versions, so we can keep track of various models and their meta data."
   ]
  },
  {
   "cell_type": "markdown",
   "metadata": {},
   "source": [
    "**Pipeline** tab is for machine learning workflow and pipelines, we have some sample pipelines"
   ]
  },
  {
   "cell_type": "markdown",
   "metadata": {},
   "source": [
    "**manage contributors** tab can be used to manage users in kubeflow environment, can have multiple users."
   ]
  },
  {
   "cell_type": "markdown",
   "metadata": {},
   "source": [
    "##### now start your machine learning workflow (in diff notebook)"
   ]
  },
  {
   "cell_type": "markdown",
   "metadata": {},
   "source": []
  },
  {
   "cell_type": "markdown",
   "metadata": {},
   "source": []
  },
  {
   "cell_type": "markdown",
   "metadata": {},
   "source": []
  },
  {
   "cell_type": "markdown",
   "metadata": {},
   "source": []
  },
  {
   "cell_type": "markdown",
   "metadata": {},
   "source": []
  },
  {
   "cell_type": "markdown",
   "metadata": {},
   "source": []
  },
  {
   "cell_type": "markdown",
   "metadata": {},
   "source": []
  },
  {
   "cell_type": "markdown",
   "metadata": {},
   "source": []
  },
  {
   "cell_type": "markdown",
   "metadata": {},
   "source": []
  },
  {
   "cell_type": "markdown",
   "metadata": {},
   "source": []
  },
  {
   "cell_type": "markdown",
   "metadata": {},
   "source": []
  },
  {
   "cell_type": "markdown",
   "metadata": {},
   "source": []
  },
  {
   "cell_type": "markdown",
   "metadata": {},
   "source": []
  },
  {
   "cell_type": "markdown",
   "metadata": {},
   "source": []
  },
  {
   "cell_type": "markdown",
   "metadata": {},
   "source": []
  },
  {
   "cell_type": "markdown",
   "metadata": {},
   "source": []
  },
  {
   "cell_type": "markdown",
   "metadata": {},
   "source": []
  },
  {
   "cell_type": "markdown",
   "metadata": {},
   "source": []
  },
  {
   "cell_type": "markdown",
   "metadata": {},
   "source": []
  },
  {
   "cell_type": "markdown",
   "metadata": {},
   "source": []
  },
  {
   "cell_type": "markdown",
   "metadata": {},
   "source": []
  },
  {
   "cell_type": "markdown",
   "metadata": {},
   "source": []
  },
  {
   "cell_type": "markdown",
   "metadata": {},
   "source": []
  },
  {
   "cell_type": "markdown",
   "metadata": {},
   "source": []
  },
  {
   "cell_type": "markdown",
   "metadata": {},
   "source": []
  },
  {
   "cell_type": "markdown",
   "metadata": {},
   "source": []
  },
  {
   "cell_type": "markdown",
   "metadata": {},
   "source": []
  },
  {
   "cell_type": "markdown",
   "metadata": {},
   "source": []
  },
  {
   "cell_type": "markdown",
   "metadata": {},
   "source": []
  },
  {
   "cell_type": "markdown",
   "metadata": {},
   "source": []
  },
  {
   "cell_type": "markdown",
   "metadata": {},
   "source": []
  },
  {
   "cell_type": "markdown",
   "metadata": {},
   "source": []
  },
  {
   "cell_type": "markdown",
   "metadata": {},
   "source": []
  },
  {
   "cell_type": "markdown",
   "metadata": {},
   "source": []
  },
  {
   "cell_type": "markdown",
   "metadata": {},
   "source": []
  },
  {
   "cell_type": "markdown",
   "metadata": {},
   "source": []
  },
  {
   "cell_type": "markdown",
   "metadata": {},
   "source": []
  },
  {
   "cell_type": "markdown",
   "metadata": {},
   "source": []
  },
  {
   "cell_type": "markdown",
   "metadata": {},
   "source": []
  },
  {
   "cell_type": "markdown",
   "metadata": {},
   "source": []
  },
  {
   "cell_type": "markdown",
   "metadata": {},
   "source": []
  },
  {
   "cell_type": "markdown",
   "metadata": {},
   "source": []
  },
  {
   "cell_type": "markdown",
   "metadata": {},
   "source": []
  },
  {
   "cell_type": "markdown",
   "metadata": {},
   "source": []
  },
  {
   "cell_type": "markdown",
   "metadata": {},
   "source": []
  },
  {
   "cell_type": "markdown",
   "metadata": {},
   "source": []
  },
  {
   "cell_type": "markdown",
   "metadata": {},
   "source": []
  },
  {
   "cell_type": "markdown",
   "metadata": {},
   "source": []
  },
  {
   "cell_type": "markdown",
   "metadata": {},
   "source": []
  },
  {
   "cell_type": "markdown",
   "metadata": {},
   "source": []
  },
  {
   "cell_type": "markdown",
   "metadata": {},
   "source": []
  },
  {
   "cell_type": "markdown",
   "metadata": {},
   "source": []
  },
  {
   "cell_type": "markdown",
   "metadata": {},
   "source": []
  },
  {
   "cell_type": "markdown",
   "metadata": {},
   "source": []
  },
  {
   "cell_type": "markdown",
   "metadata": {},
   "source": []
  },
  {
   "cell_type": "markdown",
   "metadata": {},
   "source": []
  },
  {
   "cell_type": "markdown",
   "metadata": {},
   "source": []
  },
  {
   "cell_type": "markdown",
   "metadata": {},
   "source": []
  },
  {
   "cell_type": "markdown",
   "metadata": {},
   "source": []
  }
 ],
 "metadata": {
  "kernelspec": {
   "display_name": "Python 3",
   "language": "python",
   "name": "python3"
  },
  "language_info": {
   "codemirror_mode": {
    "name": "ipython",
    "version": 3
   },
   "file_extension": ".py",
   "mimetype": "text/x-python",
   "name": "python",
   "nbconvert_exporter": "python",
   "pygments_lexer": "ipython3",
   "version": "3.7.6"
  }
 },
 "nbformat": 4,
 "nbformat_minor": 4
}
