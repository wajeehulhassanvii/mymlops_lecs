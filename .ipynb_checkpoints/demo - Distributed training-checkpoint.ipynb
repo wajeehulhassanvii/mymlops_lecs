{
 "cells": [
  {
   "cell_type": "markdown",
   "metadata": {},
   "source": [
    "- mirrored strategy (single node, synchronos)\n",
    "- multi nodes, synchronous (multi-worker, synchronous)"
   ]
  },
  {
   "cell_type": "markdown",
   "metadata": {},
   "source": [
    "#### we need to slightly modify the code for mirrored strategy"
   ]
  },
  {
   "cell_type": "markdown",
   "metadata": {},
   "source": [
    "## TFJob"
   ]
  },
  {
   "cell_type": "markdown",
   "metadata": {},
   "source": [
    "- to create TFJob, we need to create custom kuberetes resource, using kind: TFJob\n",
    "- we have chief and workers in TFJobs just lilke Hadoop\n",
    "    - we then specify chieft and workers\n",
    "- we will be deploying model.py code instread of a notebook\n",
    "- we have some other parameters\n",
    "- the yaml file will put everything spec in TF_CONFIG in the env"
   ]
  },
  {
   "cell_type": "markdown",
   "metadata": {},
   "source": [
    "- example of TFBob below"
   ]
  },
  {
   "cell_type": "raw",
   "metadata": {},
   "source": [
    "apiVersion: kubeflow.org/v1\n",
    "kind: TFJob\n",
    "metadata:\n",
    "  generateName: tfjob\n",
    "  name: fashion-mnist-job-1\n",
    "  namespace: kubeflow\n",
    "spec:\n",
    "  tfReplicaSpecs:\n",
    "    Chief:\n",
    "      replicas: 1\n",
    "      restartPolicy: OnFailure\n",
    "      template:\n",
    "        spec:\n",
    "          containers:\n",
    "          - name: tensorflow\n",
    "            image: <SET_IMAGE>\n",
    "            command:\n",
    "            - python\n",
    "            - /opt/model.py\n",
    "            - --tf-export-dir=<SET_GCS_PATH>\n",
    "            - --tf-mode=gcs\n",
    "            - --tf-train-steps=3\n",
    "            - --tf-learning-rate=0.001\n",
    "            env:\n",
    "            - name: GOOGLE_APPLICATION_CREDENTIALS\n",
    "              value: \"/secret/gcp-credentials/user-gcp-sa.json\"\n",
    "            volumeMounts:\n",
    "            - name: sa\n",
    "              mountPath: \"/secret/gcp-credentials\"\n",
    "              readOnly: true\n",
    "          volumes:\n",
    "          - name: sa\n",
    "            secret:\n",
    "              secretName: user-gcp-sa\n",
    "    \n",
    "\n",
    "    Worker:\n",
    "      replicas: 2\n",
    "      restartPolicy: OnFailure\n",
    "      template:\n",
    "        spec:\n",
    "          containers:\n",
    "          - name: tensorflow\n",
    "            image: <SET_IMAGE>\n",
    "            command:\n",
    "            - python\n",
    "            - /opt/model.py\n",
    "            - --tf-export-dir=<SET_GCS_PATH>\n",
    "            - --tf-mode=gcs\n",
    "            - --tf-train-steps=3\n",
    "            - --tf-learning-rate=0.001\n",
    "            env:\n",
    "            - name: GOOGLE_APPLICATION_CREDENTIALS\n",
    "              value: \"/secret/gcp-credentials/user-gcp-sa.json\"\n",
    "            volumeMounts:\n",
    "            - name: sa\n",
    "              mountPath: \"/secret/gcp-credentials\"\n",
    "              readOnly: true\n",
    "          volumes:\n",
    "          - name: sa\n",
    "            secret:\n",
    "              secretName: user-gcp-sa"
   ]
  },
  {
   "cell_type": "raw",
   "metadata": {},
   "source": [
    "## set image \n",
    "\n",
    "``` bash\n",
    "PROJECT_ID=$(gcloud config get-value core/project)\n",
    "IMAGE_NAME=kubeflow-fashion-mnist-train-keras\n",
    "IMAGE_VERSION=latest\n",
    "IMAGE_NAME=gcr.io/$PROJECT_ID/$IMAGE_NAME\n",
    "```\n",
    "\n",
    "### Building docker image. \n",
    "```\n",
    "docker build -t $IMAGE_NAME:$IMAGE_VERSION .\n",
    "```\n",
    "\n",
    "### Run locally to test\n",
    "```\n",
    "docker run -it --rm $IMAGE_NAME:$IMAGE_VERSION\n",
    "docker run -it --rm -v $(pwd)/export:/tmp/export $IMAGE_NAME:$IMAGE_VERSION\n",
    "```\n",
    "\n",
    "### Push docker image\n",
    "\n",
    "```\n",
    "gcloud auth configure-docker --quiet\n",
    "docker push $IMAGE_NAME:$IMAGE_VERSION\n",
    "```\n",
    "\n",
    "## Run TFJob\n",
    "\n",
    "create a bucket to store the tensorflow model\n",
    "\n",
    "```\n",
    "BUCKET=$PROJECT_ID-fashion-mnist-tfjob\n",
    "gsutil mb gs://$BUCKET/\n",
    "```\n",
    "\n",
    "```bash\n",
    "\n",
    "# launch TFJob\n",
    "kubectl apply -f training-gcs.yaml\n",
    "kubectl get tfjob -n kubeflow \n",
    "kubectl get pods -n kubeflow | grep fashion-mnist-job-1\n",
    "kubectl describe tfjob fashion-mnist-job-1 -n kubeflow\n",
    "kubectl logs -f fashion-mnist-job-1-chief-0 -n kubeflow"
   ]
  },
  {
   "cell_type": "raw",
   "metadata": {},
   "source": [
    "## steps\n",
    "## set image \n",
    "\n",
    "``` bash\n",
    "PROJECT_ID=$(gcloud config get-value core/project)\n",
    "IMAGE_NAME=kubeflow-fashion-mnist-train-keras\n",
    "IMAGE_VERSION=latest\n",
    "IMAGE_NAME=gcr.io/$PROJECT_ID/$IMAGE_NAME\n",
    "```\n",
    "\n",
    "### Building docker image. \n",
    "```\n",
    "docker build -t $IMAGE_NAME:$IMAGE_VERSION .\n",
    "```\n",
    "\n",
    "### Run locally to test\n",
    "```\n",
    "docker run -it --rm $IMAGE_NAME:$IMAGE_VERSION\n",
    "docker run -it --rm -v $(pwd)/export:/tmp/export $IMAGE_NAME:$IMAGE_VERSION\n",
    "```\n",
    "\n",
    "### Push docker image\n",
    "\n",
    "```\n",
    "gcloud auth configure-docker --quiet\n",
    "docker push $IMAGE_NAME:$IMAGE_VERSION\n",
    "```\n",
    "\n",
    "## Run TFJob\n",
    "\n",
    "create a bucket to store the tensorflow model\n",
    "\n",
    "```\n",
    "BUCKET=$PROJECT_ID-fashion-mnist-tfjob\n",
    "gsutil mb gs://$BUCKET/\n",
    "```\n",
    "\n",
    "```bash\n",
    "\n",
    "# launch TFJob\n",
    "kubectl apply -f training-gcs.yaml\n",
    "kubectl get tfjob -n kubeflow \n",
    "kubectl get pods -n kubeflow | grep fashion-mnist-job-1\n",
    "kubectl describe tfjob fashion-mnist-job-1 -n kubeflow\n",
    "kubectl logs -f fashion-mnist-job-1-chief-0 -n kubeflow"
   ]
  },
  {
   "cell_type": "markdown",
   "metadata": {},
   "source": []
  },
  {
   "cell_type": "markdown",
   "metadata": {},
   "source": []
  },
  {
   "cell_type": "markdown",
   "metadata": {},
   "source": []
  },
  {
   "cell_type": "markdown",
   "metadata": {},
   "source": []
  },
  {
   "cell_type": "markdown",
   "metadata": {},
   "source": []
  },
  {
   "cell_type": "markdown",
   "metadata": {},
   "source": []
  },
  {
   "cell_type": "markdown",
   "metadata": {},
   "source": []
  },
  {
   "cell_type": "markdown",
   "metadata": {},
   "source": []
  },
  {
   "cell_type": "markdown",
   "metadata": {},
   "source": []
  },
  {
   "cell_type": "markdown",
   "metadata": {},
   "source": []
  },
  {
   "cell_type": "markdown",
   "metadata": {},
   "source": []
  },
  {
   "cell_type": "markdown",
   "metadata": {},
   "source": []
  },
  {
   "cell_type": "markdown",
   "metadata": {},
   "source": []
  },
  {
   "cell_type": "markdown",
   "metadata": {},
   "source": []
  },
  {
   "cell_type": "markdown",
   "metadata": {},
   "source": []
  },
  {
   "cell_type": "markdown",
   "metadata": {},
   "source": []
  },
  {
   "cell_type": "markdown",
   "metadata": {},
   "source": []
  },
  {
   "cell_type": "markdown",
   "metadata": {},
   "source": []
  },
  {
   "cell_type": "markdown",
   "metadata": {},
   "source": []
  },
  {
   "cell_type": "markdown",
   "metadata": {},
   "source": []
  },
  {
   "cell_type": "markdown",
   "metadata": {},
   "source": []
  },
  {
   "cell_type": "markdown",
   "metadata": {},
   "source": []
  },
  {
   "cell_type": "markdown",
   "metadata": {},
   "source": []
  },
  {
   "cell_type": "markdown",
   "metadata": {},
   "source": []
  },
  {
   "cell_type": "markdown",
   "metadata": {},
   "source": []
  },
  {
   "cell_type": "markdown",
   "metadata": {},
   "source": []
  },
  {
   "cell_type": "markdown",
   "metadata": {},
   "source": []
  },
  {
   "cell_type": "markdown",
   "metadata": {},
   "source": []
  },
  {
   "cell_type": "markdown",
   "metadata": {},
   "source": []
  },
  {
   "cell_type": "markdown",
   "metadata": {},
   "source": []
  },
  {
   "cell_type": "markdown",
   "metadata": {},
   "source": []
  },
  {
   "cell_type": "markdown",
   "metadata": {},
   "source": []
  },
  {
   "cell_type": "markdown",
   "metadata": {},
   "source": []
  },
  {
   "cell_type": "markdown",
   "metadata": {},
   "source": []
  },
  {
   "cell_type": "markdown",
   "metadata": {},
   "source": []
  },
  {
   "cell_type": "markdown",
   "metadata": {},
   "source": []
  },
  {
   "cell_type": "markdown",
   "metadata": {},
   "source": []
  },
  {
   "cell_type": "markdown",
   "metadata": {},
   "source": []
  },
  {
   "cell_type": "markdown",
   "metadata": {},
   "source": []
  },
  {
   "cell_type": "markdown",
   "metadata": {},
   "source": []
  },
  {
   "cell_type": "markdown",
   "metadata": {},
   "source": []
  },
  {
   "cell_type": "markdown",
   "metadata": {},
   "source": []
  },
  {
   "cell_type": "markdown",
   "metadata": {},
   "source": []
  },
  {
   "cell_type": "markdown",
   "metadata": {},
   "source": []
  },
  {
   "cell_type": "markdown",
   "metadata": {},
   "source": []
  },
  {
   "cell_type": "markdown",
   "metadata": {},
   "source": []
  },
  {
   "cell_type": "markdown",
   "metadata": {},
   "source": []
  },
  {
   "cell_type": "markdown",
   "metadata": {},
   "source": []
  },
  {
   "cell_type": "markdown",
   "metadata": {},
   "source": []
  },
  {
   "cell_type": "markdown",
   "metadata": {},
   "source": []
  },
  {
   "cell_type": "markdown",
   "metadata": {},
   "source": []
  },
  {
   "cell_type": "markdown",
   "metadata": {},
   "source": []
  },
  {
   "cell_type": "markdown",
   "metadata": {},
   "source": []
  },
  {
   "cell_type": "markdown",
   "metadata": {},
   "source": []
  },
  {
   "cell_type": "markdown",
   "metadata": {},
   "source": []
  },
  {
   "cell_type": "markdown",
   "metadata": {},
   "source": []
  },
  {
   "cell_type": "markdown",
   "metadata": {},
   "source": []
  },
  {
   "cell_type": "markdown",
   "metadata": {},
   "source": []
  },
  {
   "cell_type": "markdown",
   "metadata": {},
   "source": []
  },
  {
   "cell_type": "markdown",
   "metadata": {},
   "source": []
  },
  {
   "cell_type": "markdown",
   "metadata": {},
   "source": []
  },
  {
   "cell_type": "markdown",
   "metadata": {},
   "source": []
  },
  {
   "cell_type": "markdown",
   "metadata": {},
   "source": []
  },
  {
   "cell_type": "markdown",
   "metadata": {},
   "source": []
  },
  {
   "cell_type": "markdown",
   "metadata": {},
   "source": []
  },
  {
   "cell_type": "markdown",
   "metadata": {},
   "source": []
  },
  {
   "cell_type": "markdown",
   "metadata": {},
   "source": []
  },
  {
   "cell_type": "markdown",
   "metadata": {},
   "source": []
  },
  {
   "cell_type": "markdown",
   "metadata": {},
   "source": []
  },
  {
   "cell_type": "markdown",
   "metadata": {},
   "source": []
  },
  {
   "cell_type": "markdown",
   "metadata": {},
   "source": []
  },
  {
   "cell_type": "markdown",
   "metadata": {},
   "source": []
  },
  {
   "cell_type": "markdown",
   "metadata": {},
   "source": []
  },
  {
   "cell_type": "markdown",
   "metadata": {},
   "source": []
  },
  {
   "cell_type": "markdown",
   "metadata": {},
   "source": []
  },
  {
   "cell_type": "markdown",
   "metadata": {},
   "source": []
  },
  {
   "cell_type": "markdown",
   "metadata": {},
   "source": []
  },
  {
   "cell_type": "markdown",
   "metadata": {},
   "source": []
  },
  {
   "cell_type": "markdown",
   "metadata": {},
   "source": []
  },
  {
   "cell_type": "markdown",
   "metadata": {},
   "source": []
  },
  {
   "cell_type": "markdown",
   "metadata": {},
   "source": []
  },
  {
   "cell_type": "markdown",
   "metadata": {},
   "source": []
  },
  {
   "cell_type": "markdown",
   "metadata": {},
   "source": []
  },
  {
   "cell_type": "markdown",
   "metadata": {},
   "source": []
  },
  {
   "cell_type": "markdown",
   "metadata": {},
   "source": []
  }
 ],
 "metadata": {
  "kernelspec": {
   "display_name": "Python 3",
   "language": "python",
   "name": "python3"
  },
  "language_info": {
   "codemirror_mode": {
    "name": "ipython",
    "version": 3
   },
   "file_extension": ".py",
   "mimetype": "text/x-python",
   "name": "python",
   "nbconvert_exporter": "python",
   "pygments_lexer": "ipython3",
   "version": "3.7.6"
  }
 },
 "nbformat": 4,
 "nbformat_minor": 4
}
