{
 "cells": [
  {
   "cell_type": "markdown",
   "metadata": {},
   "source": [
    "#####  Switch cgroup driver, from cgroupfs to systemd #4770 \n",
    "link: https://github.com/kubernetes/minikube/issues/4770"
   ]
  },
  {
   "cell_type": "markdown",
   "metadata": {},
   "source": [
    "Here is the current workaround, when using something like the default Docker on CentOS:\n",
    "\n",
    "**sudo minikube start --vm-driver=none --extra-config=kubelet.cgroup-driver=systemd**\n",
    "\n",
    "The \"docker\" package (1.13.1) already has \"systemd\" as the default.\n",
    "\n",
    "Note: also need to set SELinux to permissive (setenforce 0)"
   ]
  },
  {
   "cell_type": "markdown",
   "metadata": {},
   "source": [
    " "
   ]
  },
  {
   "cell_type": "markdown",
   "metadata": {},
   "source": [
    "### Why does kubeadm not start even after disabling swap?\n",
    "https://stackoverflow.com/questions/56287494/why-does-kubeadm-not-start-even-after-disabling-swap"
   ]
  },
  {
   "cell_type": "markdown",
   "metadata": {},
   "source": [
    "below was the root cause.\n",
    "\n",
    "detected \"cgroupfs\" as the Docker cgroup driver. The recommended driver is \"systemd\".\n",
    "\n",
    "you need to update the docker cgroup driver.\n",
    "\n",
    "follow the below fix"
   ]
  },
  {
   "cell_type": "raw",
   "metadata": {},
   "source": [
    "cat > /etc/docker/daemon.json <<EOF\n",
    "{\n",
    "  \"exec-opts\": [\"native.cgroupdriver=systemd\"],\n",
    "  \"log-driver\": \"json-file\",\n",
    "  \"log-opts\": {\n",
    "    \"max-size\": \"100m\"\n",
    "  },\n",
    "  \"storage-driver\": \"overlay2\",\n",
    "  \"storage-opts\": [\n",
    "    \"overlay2.override_kernel_check=true\"\n",
    "  ]\n",
    "}\n",
    "EOF\n",
    "\n",
    "mkdir -p /etc/systemd/system/docker.service.d\n",
    "\n",
    "# Restart Docker\n",
    "systemctl daemon-reload\n",
    "systemctl restart docker"
   ]
  },
  {
   "cell_type": "markdown",
   "metadata": {},
   "source": [
    " "
   ]
  },
  {
   "cell_type": "markdown",
   "metadata": {},
   "source": [
    "**kubelet fails with error \"misconfiguration: kubelet cgroup driver: \"cgroupfs\" is different from docker cgroup driver: \"systemd'**\n",
    "link: https://github.com/kubernetes/kubernetes/issues/43805"
   ]
  },
  {
   "cell_type": "raw",
   "metadata": {},
   "source": [
    "sudo kubelet --cgroup-driver=systemd --fail-swap-on=false --pod-manifest-path=/etc/kubernetes/manifests --hostname-override=${HOSTNAME} --v=9"
   ]
  },
  {
   "cell_type": "raw",
   "metadata": {},
   "source": [
    "it has been resolved, you need to add --cgroup-driver=system to kubelet start up parameters in /etc/systemd/system/kubelet.service.d/10-kubeadm.conf\n",
    "But this does not resolve kubeadm problem :("
   ]
  },
  {
   "cell_type": "raw",
   "metadata": {},
   "source": [
    "then run \"systemctl daemon-reload && systemctl restart kubelet\""
   ]
  },
  {
   "cell_type": "markdown",
   "metadata": {},
   "source": [
    "swapoff -a\n",
    "kubeadm reset\n",
    "kudeadm init\n",
    "systemctl status kubelet\n"
   ]
  },
  {
   "cell_type": "markdown",
   "metadata": {},
   "source": [
    "## useful\n",
    "link: https://computingforgeeks.com/deploy-kubernetes-cluster-on-ubuntu-with-kubeadm/ <br>\n",
    "https://kubernetes.io/docs/setup/production-environment/tools/kubeadm/install-kubeadm/"
   ]
  },
  {
   "cell_type": "markdown",
   "metadata": {},
   "source": []
  },
  {
   "cell_type": "markdown",
   "metadata": {},
   "source": []
  },
  {
   "cell_type": "markdown",
   "metadata": {},
   "source": []
  },
  {
   "cell_type": "markdown",
   "metadata": {},
   "source": []
  },
  {
   "cell_type": "markdown",
   "metadata": {},
   "source": []
  },
  {
   "cell_type": "markdown",
   "metadata": {},
   "source": []
  },
  {
   "cell_type": "markdown",
   "metadata": {},
   "source": []
  },
  {
   "cell_type": "markdown",
   "metadata": {},
   "source": []
  },
  {
   "cell_type": "markdown",
   "metadata": {},
   "source": []
  },
  {
   "cell_type": "markdown",
   "metadata": {},
   "source": []
  },
  {
   "cell_type": "markdown",
   "metadata": {},
   "source": []
  },
  {
   "cell_type": "code",
   "execution_count": null,
   "metadata": {},
   "outputs": [],
   "source": []
  }
 ],
 "metadata": {
  "kernelspec": {
   "display_name": "Python 3",
   "language": "python",
   "name": "python3"
  },
  "language_info": {
   "codemirror_mode": {
    "name": "ipython",
    "version": 3
   },
   "file_extension": ".py",
   "mimetype": "text/x-python",
   "name": "python",
   "nbconvert_exporter": "python",
   "pygments_lexer": "ipython3",
   "version": "3.7.6"
  }
 },
 "nbformat": 4,
 "nbformat_minor": 4
}
