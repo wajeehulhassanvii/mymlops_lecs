{
 "cells": [
  {
   "cell_type": "raw",
   "metadata": {},
   "source": [
    "### KFServing : Autoscaling \n",
    "\n",
    "You can use any load testing tool to simulate the load. Let's use **hey** (https://github.com/rakyll/hey) tool to test the autoscaling. \n",
    "\n",
    "```bash\n",
    "# on macOS\n",
    "brew install hey\n",
    "```\n",
    "\n",
    "```bash\n",
    "# on linux\n",
    "sudo apt-get install hey\n",
    "```\n",
    "\n",
    "### Run load-testing to test autoscaling\n",
    "\n",
    "```bash\n",
    "# model name\n",
    "MODEL_NAME=fashion-mnist\n",
    "# IP \n",
    "CLUSTER_IP=$(kubectl -n istio-system get service kfserving-ingressgateway -o jsonpath='{.status.loadBalancer.ingress[0].ip}')\n",
    "# host\n",
    "HOST=$(kubectl get inferenceservice -n kubeflow $MODEL_NAME -o jsonpath='{.status.url}' | cut -d \"/\" -f 3)\n",
    "# file path\n",
    "INPUT_PATH=fashion_mnist_input.json\n",
    "# check pods\n",
    "kubectl get pods -n kubeflow | grep fashion-mnist-predictor\n",
    "# send request for 30 secs with maintaining 5 in-flight requests\n",
    "hey -z 30s -c 5 -m POST -host ${HOST} -D $INPUT_PATH http://$CLUSTER_IP/v1/models/$MODEL_NAME:predict\n",
    "# send request for 30 secs with maintaining 50 QPS ( query per second)\n",
    "hey -z 30s -q 50 -m POST -host ${HOST} -D $INPUT_PATH http://$CLUSTER_IP/v1/models/$MODEL_NAME:predict\n",
    "```\n",
    "\n",
    "Monitor grafana dashboard `Knative Serving-Scaling Debugging` (Revision Pod Counts).\n"
   ]
  },
  {
   "cell_type": "markdown",
   "metadata": {},
   "source": []
  },
  {
   "cell_type": "markdown",
   "metadata": {},
   "source": []
  },
  {
   "cell_type": "markdown",
   "metadata": {},
   "source": []
  },
  {
   "cell_type": "markdown",
   "metadata": {},
   "source": []
  },
  {
   "cell_type": "markdown",
   "metadata": {},
   "source": []
  },
  {
   "cell_type": "markdown",
   "metadata": {},
   "source": []
  },
  {
   "cell_type": "markdown",
   "metadata": {},
   "source": []
  },
  {
   "cell_type": "markdown",
   "metadata": {},
   "source": []
  },
  {
   "cell_type": "markdown",
   "metadata": {},
   "source": []
  },
  {
   "cell_type": "markdown",
   "metadata": {},
   "source": []
  },
  {
   "cell_type": "markdown",
   "metadata": {},
   "source": []
  },
  {
   "cell_type": "markdown",
   "metadata": {},
   "source": []
  },
  {
   "cell_type": "markdown",
   "metadata": {},
   "source": []
  },
  {
   "cell_type": "markdown",
   "metadata": {},
   "source": []
  },
  {
   "cell_type": "markdown",
   "metadata": {},
   "source": []
  },
  {
   "cell_type": "markdown",
   "metadata": {},
   "source": []
  }
 ],
 "metadata": {
  "kernelspec": {
   "display_name": "Python 3",
   "language": "python",
   "name": "python3"
  },
  "language_info": {
   "codemirror_mode": {
    "name": "ipython",
    "version": 3
   },
   "file_extension": ".py",
   "mimetype": "text/x-python",
   "name": "python",
   "nbconvert_exporter": "python",
   "pygments_lexer": "ipython3",
   "version": "3.7.6"
  }
 },
 "nbformat": 4,
 "nbformat_minor": 4
}
