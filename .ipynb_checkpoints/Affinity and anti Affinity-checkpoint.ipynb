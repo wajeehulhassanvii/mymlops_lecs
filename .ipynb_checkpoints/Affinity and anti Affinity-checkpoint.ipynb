{
 "cells": [
  {
   "cell_type": "markdown",
   "metadata": {},
   "source": [
    "### Affinity and Anti-affinty\n",
    "- We usually use nodeSelector to make sure pods get scheduled on specific nodes:\n",
    "- Affinity / anit-affinity feature allows us to do **more complex scheduling** than the nodeSelector and also **works on poods**, not only for nodes\n",
    "    - The language is more expressive\n",
    "    - We can create **rules that are not hard requirements**, but rather **a preffered rule**, meaning that the scheduler will still be able to schedule our pod, even if the rules cannot be met.\n",
    "- We can create rules that take other pod labels into account\n",
    "    - We can create rules that two diff pods will never be on the same node"
   ]
  },
  {
   "cell_type": "markdown",
   "metadata": {},
   "source": [
    "We have node affinity and Pod affinity/anti-affinity."
   ]
  },
  {
   "cell_type": "markdown",
   "metadata": {},
   "source": [
    "- There are currently 2 types one can use node affinity for:\n",
    "    1. requiredDuringSchedulingIgnoredDuringExecution\n",
    "    2. preferredDuringSchedulingIgnoredDuringExecution\n",
    "- The **first one** sets a **hard requirement** (like a nodeSelector)\n",
    "    - The rules must be met before the pod can be scheduled\n",
    "- The **second type** will try to enforce the rule, but it will not guarentee it\n",
    "    - Even if the rules is not met, the pod can still be scheduled, its a soft requirement, a preference"
   ]
  },
  {
   "cell_type": "markdown",
   "metadata": {},
   "source": [
    "we can use both affinity together, we define affinity in **deployment spec**"
   ]
  },
  {
   "cell_type": "markdown",
   "metadata": {},
   "source": [
    "- I also supplied a **weighing** to the preferredDuringSchedulingIgnoredDuringExecution statement.\n",
    "- The **higher this weighing**, the **more weight is given to that rule**.\n",
    "- Kubernets score every node by summarizing the weightings per node.\n",
    "    - For example if you have **2 diifferent rules with weights 1 and 5**\n",
    "    - If both rules match, the node will have a score of **6**\n",
    "    - If the rule with weight 1 matches, then the score will only be 1\n",
    "- The node that his **highest total score**, thats where the pod will be scheduled on"
   ]
  },
  {
   "cell_type": "markdown",
   "metadata": {},
   "source": [
    "## built-in node labels"
   ]
  },
  {
   "cell_type": "markdown",
   "metadata": {},
   "source": [
    "we already have pre-populated labels that can be used\n",
    "    - kubernetes.io/hostname\n",
    "    - failure-domain.beta.kubernetes.io/zone\n",
    "    - failure-domain.beta.kubernetes.io/region\n",
    "    - beta.kubernetes.io/instance-type\n",
    "    - beta.kubernetes.io/os\n",
    "    - beta.kubernetes.io/arch"
   ]
  },
  {
   "cell_type": "markdown",
   "metadata": {},
   "source": [
    "To label node:<br>\n",
    "**kubectl label node (hostname) key=value**"
   ]
  },
  {
   "cell_type": "markdown",
   "metadata": {},
   "source": [
    "# Interpod affinity and anti-affinity\n",
    "- This mechanism allows you to **influence scheduling based on the labels of other pods** that are **already running** on the cluster.\n",
    "- **pods belong to a nmespace**, so your affinity rules will **apply to a specific namesoace** if no namespace is given in the specification, it defaults to the namespapce of the pod).\n",
    "- Similar to node affinity, you have **2 types** of pod affinity / anti-affinity.:\n",
    "    - requiredDuringSchedulingIgnoredDuringExecution\n",
    "    - preferredDuringSchedulingIgnoredDuringExecution\n",
    "- The **reuired type** creats **rules that must be met** for the pod to be scheduled, the **preferred type** is a **soft** type, and the **rules may be met**"
   ]
  },
  {
   "cell_type": "markdown",
   "metadata": {},
   "source": [
    "- A good use case for **pod affinity** is **co-located pods**:\n",
    "    - You might want that 1 pod is always co-located on the same node with anonther pod.\n",
    "    - For example you have an app that uses redis as cache , and you want to have the redis pod on the same node as the app itself.\n",
    "- Another use-case is to co-locate pods within the same **availibility zone**"
   ]
  },
  {
   "cell_type": "markdown",
   "metadata": {},
   "source": [
    "- When writing your pod affinity and anti-affinity rules, you need to specify a **topology domain**, called **topologyKey** in the rules.\n",
    "    - The topologyKey refers to a node label.\n",
    "    - If the affinity rule matches, the **new pod** will only be **scheduled** on **nodes** that have the **same topologyKey** value as the **current running pod**"
   ]
  },
  {
   "cell_type": "markdown",
   "metadata": {},
   "source": [
    "##### we select label with interpod affinity by:"
   ]
  },
  {
   "cell_type": "raw",
   "metadata": {},
   "source": [
    "- labelSelector:\n",
    "    matchExpressions:\n",
    "    - key: \"app\"\n",
    "    operator: In\n",
    "    values:\n",
    "    -myapp\n",
    "  topologyKey: \"kubernetes.io/hostname\""
   ]
  },
  {
   "cell_type": "markdown",
   "metadata": {},
   "source": [
    "above interpod affinity will only be applied to the topology with key \"kubernetes.io/hostname\""
   ]
  },
  {
   "cell_type": "markdown",
   "metadata": {},
   "source": [
    "- contrary to affinity, you might want to use **pod anti-affinity**\n",
    "- You can use anti-affinity to make sure a **pod is only scheduled onace on a node**\n",
    "    - For example you have 3 nodes and you want to schedule 2 pods, but they shouldn't be scheduled on the same node\n",
    "    - pod anti-affinity allows you to create a rule that says to **not schedule on the same host if a pod label matches**"
   ]
  },
  {
   "cell_type": "markdown",
   "metadata": {},
   "source": [
    "anti-affinity make sure that node does not get mapped on the same node with another pod matching the expression"
   ]
  },
  {
   "cell_type": "markdown",
   "metadata": {},
   "source": [
    "##### we have following affinity and anti-affinnity operators:\n",
    "- In\n",
    "- Not In\n",
    "- Exists\n",
    "- DoesNotExist"
   ]
  },
  {
   "cell_type": "raw",
   "metadata": {},
   "source": [
    "Interpod affinity and anti-affinity currently requires a substantial amount of processing, we might have to take into account when we have a very large number of cluster"
   ]
  },
  {
   "cell_type": "markdown",
   "metadata": {},
   "source": []
  },
  {
   "cell_type": "markdown",
   "metadata": {},
   "source": []
  },
  {
   "cell_type": "markdown",
   "metadata": {},
   "source": []
  },
  {
   "cell_type": "markdown",
   "metadata": {},
   "source": []
  },
  {
   "cell_type": "markdown",
   "metadata": {},
   "source": []
  },
  {
   "cell_type": "markdown",
   "metadata": {},
   "source": []
  },
  {
   "cell_type": "markdown",
   "metadata": {},
   "source": []
  },
  {
   "cell_type": "markdown",
   "metadata": {},
   "source": []
  },
  {
   "cell_type": "markdown",
   "metadata": {},
   "source": []
  },
  {
   "cell_type": "markdown",
   "metadata": {},
   "source": []
  },
  {
   "cell_type": "markdown",
   "metadata": {},
   "source": []
  },
  {
   "cell_type": "markdown",
   "metadata": {},
   "source": []
  },
  {
   "cell_type": "markdown",
   "metadata": {},
   "source": []
  },
  {
   "cell_type": "markdown",
   "metadata": {},
   "source": []
  },
  {
   "cell_type": "markdown",
   "metadata": {},
   "source": []
  },
  {
   "cell_type": "markdown",
   "metadata": {},
   "source": []
  },
  {
   "cell_type": "markdown",
   "metadata": {},
   "source": []
  },
  {
   "cell_type": "markdown",
   "metadata": {},
   "source": []
  },
  {
   "cell_type": "markdown",
   "metadata": {},
   "source": []
  },
  {
   "cell_type": "markdown",
   "metadata": {},
   "source": []
  },
  {
   "cell_type": "markdown",
   "metadata": {},
   "source": []
  },
  {
   "cell_type": "markdown",
   "metadata": {},
   "source": []
  },
  {
   "cell_type": "markdown",
   "metadata": {},
   "source": []
  },
  {
   "cell_type": "markdown",
   "metadata": {},
   "source": []
  },
  {
   "cell_type": "markdown",
   "metadata": {},
   "source": []
  },
  {
   "cell_type": "markdown",
   "metadata": {},
   "source": []
  },
  {
   "cell_type": "markdown",
   "metadata": {},
   "source": []
  },
  {
   "cell_type": "markdown",
   "metadata": {},
   "source": []
  },
  {
   "cell_type": "markdown",
   "metadata": {},
   "source": []
  },
  {
   "cell_type": "markdown",
   "metadata": {},
   "source": []
  },
  {
   "cell_type": "markdown",
   "metadata": {},
   "source": []
  },
  {
   "cell_type": "markdown",
   "metadata": {},
   "source": []
  },
  {
   "cell_type": "markdown",
   "metadata": {},
   "source": []
  },
  {
   "cell_type": "markdown",
   "metadata": {},
   "source": []
  },
  {
   "cell_type": "markdown",
   "metadata": {},
   "source": []
  },
  {
   "cell_type": "markdown",
   "metadata": {},
   "source": []
  },
  {
   "cell_type": "markdown",
   "metadata": {},
   "source": []
  },
  {
   "cell_type": "markdown",
   "metadata": {},
   "source": []
  }
 ],
 "metadata": {
  "kernelspec": {
   "display_name": "Python 3",
   "language": "python",
   "name": "python3"
  },
  "language_info": {
   "codemirror_mode": {
    "name": "ipython",
    "version": 3
   },
   "file_extension": ".py",
   "mimetype": "text/x-python",
   "name": "python",
   "nbconvert_exporter": "python",
   "pygments_lexer": "ipython3",
   "version": "3.7.7"
  }
 },
 "nbformat": 4,
 "nbformat_minor": 4
}
