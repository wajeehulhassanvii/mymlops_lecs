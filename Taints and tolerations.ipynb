{
 "cells": [
  {
   "cell_type": "markdown",
   "metadata": {},
   "source": [
    "# Taints and tolerations\n",
    "- Tolerations allow a node to **repel a set of pods**\n",
    "- **Taints mark** a node, tolerations are applied to pods to influence the scheduling of pods"
   ]
  },
  {
   "cell_type": "markdown",
   "metadata": {},
   "source": [
    "##### USE CASE OF TAINT<BR>\n",
    "- One use case for taints is to make sure that when you create a new pod, they are not scheduled on the master\n",
    "    - The master has a taint (node-role.kubernetes.io/master:NoSchedule)\n",
    "- to add a new taint to a node, you can use kubectl taint:<br>\n",
    "**kubectl taint nodes node1 key=value=NoSchedule**<br>\n",
    "Above command will make sure that **no pods will be scheduled** on node1, as long as they **don't have a matching toleration**\n",
    "- The following toleration would allow a new pod to be scheduled on the tainted node1:"
   ]
  },
  {
   "cell_type": "markdown",
   "metadata": {},
   "source": [
    "Just like affinity, taints can also be a **preference** (or \"soft\") rather than a requiremnet:\n",
    "    - **NoSchedule** a hard requirement that a pod will not be scheduled unless there is a matching toleration\n",
    "    - **PreferNoSchedule** kubernetes will try and avoid placing a pod that doesn't have a matching toleration, but its not a hard requiremnet\n",
    "- If taint is applied while there are **already running pods**, these will not **be evicted**, unless the following taint type is used.\n",
    "    - **NoExecute: evict** pods with non-matching tolerations."
   ]
  },
  {
   "cell_type": "markdown",
   "metadata": {},
   "source": [
    "- When using **NoExecute**, you can specify within your toleration **how long the pod can run**, on a **tainted node** before being evicted:"
   ]
  },
  {
   "cell_type": "raw",
   "metadata": {},
   "source": [
    "tolerations:\n",
    "- key: \"key\"\n",
    "  operator: \"Equal\"\n",
    "  value: \"value\"\n",
    "  effect: \"NoExecute\"\n",
    "  tolerationSeconds: 3600"
   ]
  },
  {
   "cell_type": "markdown",
   "metadata": {},
   "source": []
  },
  {
   "cell_type": "markdown",
   "metadata": {},
   "source": []
  },
  {
   "cell_type": "markdown",
   "metadata": {},
   "source": []
  },
  {
   "cell_type": "markdown",
   "metadata": {},
   "source": []
  },
  {
   "cell_type": "markdown",
   "metadata": {},
   "source": []
  },
  {
   "cell_type": "markdown",
   "metadata": {},
   "source": []
  },
  {
   "cell_type": "markdown",
   "metadata": {},
   "source": []
  },
  {
   "cell_type": "markdown",
   "metadata": {},
   "source": []
  },
  {
   "cell_type": "markdown",
   "metadata": {},
   "source": []
  },
  {
   "cell_type": "markdown",
   "metadata": {},
   "source": []
  },
  {
   "cell_type": "markdown",
   "metadata": {},
   "source": []
  },
  {
   "cell_type": "markdown",
   "metadata": {},
   "source": []
  },
  {
   "cell_type": "markdown",
   "metadata": {},
   "source": []
  },
  {
   "cell_type": "markdown",
   "metadata": {},
   "source": []
  },
  {
   "cell_type": "markdown",
   "metadata": {},
   "source": []
  },
  {
   "cell_type": "markdown",
   "metadata": {},
   "source": []
  }
 ],
 "metadata": {
  "kernelspec": {
   "display_name": "Python 3",
   "language": "python",
   "name": "python3"
  },
  "language_info": {
   "codemirror_mode": {
    "name": "ipython",
    "version": 3
   },
   "file_extension": ".py",
   "mimetype": "text/x-python",
   "name": "python",
   "nbconvert_exporter": "python",
   "pygments_lexer": "ipython3",
   "version": "3.7.7"
  }
 },
 "nbformat": 4,
 "nbformat_minor": 4
}
